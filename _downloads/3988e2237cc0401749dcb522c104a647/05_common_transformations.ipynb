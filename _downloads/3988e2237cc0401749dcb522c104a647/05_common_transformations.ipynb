{
  "cells": [
    {
      "cell_type": "markdown",
      "metadata": {},
      "source": [
        "\n# PC Structural Transformation Functions\n\nIn this tutorial, you will learn how to use the built-in structural transformation algorithms to easily create and manipulate PCs.\n"
      ]
    },
    {
      "cell_type": "code",
      "execution_count": null,
      "metadata": {
        "collapsed": false
      },
      "outputs": [],
      "source": [
        "# sphinx_gallery_thumbnail_path = 'imgs/juice.png'\n\nimport torch\nimport pyjuice as juice\nimport pyjuice.nodes.distributions as dists"
      ]
    },
    {
      "cell_type": "markdown",
      "metadata": {},
      "source": [
        "## Clone a PC\n\n"
      ]
    },
    {
      "cell_type": "markdown",
      "metadata": {},
      "source": [
        ":code:`pyjuice.deepcopy` allows us to clone a PC, with some options to manipulate the copy. \nLet's start by defining a PC.\n\n"
      ]
    },
    {
      "cell_type": "code",
      "execution_count": null,
      "metadata": {
        "collapsed": false
      },
      "outputs": [],
      "source": [
        "with juice.set_block_size(block_size = 4):\n\n    i00 = juice.inputs(0, num_node_blocks = 8, dist = dists.Categorical(num_cats = 5))\n    i10 = juice.inputs(1, num_node_blocks = 8, dist = dists.Categorical(num_cats = 5))\n    i11 = juice.inputs(1, num_node_blocks = 8, dist = dists.Categorical(num_cats = 5))\n    \n    ms0 = juice.multiply(i00, i10)\n    ms1 = juice.multiply(i00, i11)\n\n    ns = juice.summate(ms0, ms1, num_node_blocks = 1)\n\nns.init_parameters()"
      ]
    },
    {
      "cell_type": "markdown",
      "metadata": {},
      "source": [
        "To create an independent copy of :code:`ns`, we can run:\n\n"
      ]
    },
    {
      "cell_type": "code",
      "execution_count": null,
      "metadata": {
        "collapsed": false
      },
      "outputs": [],
      "source": [
        "new_ns1 = juice.deepcopy(ns)"
      ]
    },
    {
      "cell_type": "markdown",
      "metadata": {},
      "source": [
        "By setting :code:`tie_params` to :code:`True`, we can tie the parameters of the original PC with that of the copied PC. Note that tied parameters will remain the same during all transformation/learning procedures implemented in PyJuice.\n\n"
      ]
    },
    {
      "cell_type": "code",
      "execution_count": null,
      "metadata": {
        "collapsed": false
      },
      "outputs": [],
      "source": [
        "new_ns2 = juice.deepcopy(ns, tie_params = True)"
      ]
    },
    {
      "cell_type": "markdown",
      "metadata": {},
      "source": [
        "By providing a :code:`var_mapping`, we can define the copied PC on another set of variables.\n\n"
      ]
    },
    {
      "cell_type": "code",
      "execution_count": null,
      "metadata": {
        "collapsed": false
      },
      "outputs": [],
      "source": [
        "var_mapping = {0: 2, 1: 3}\nnew_ns3 = juice.deepcopy(ns, var_mapping = var_mapping)"
      ]
    },
    {
      "cell_type": "markdown",
      "metadata": {},
      "source": [
        "Note that :code:`tie_params` and :code:`var_mapping` can be used simultaneously:\n\n"
      ]
    },
    {
      "cell_type": "code",
      "execution_count": null,
      "metadata": {
        "collapsed": false
      },
      "outputs": [],
      "source": [
        "new_ns3 = juice.deepcopy(ns, tie_params = True, var_mapping = var_mapping)"
      ]
    },
    {
      "cell_type": "markdown",
      "metadata": {},
      "source": [
        "## Merge PCs\n\n"
      ]
    },
    {
      "cell_type": "markdown",
      "metadata": {},
      "source": [
        ":code:`juice.merge` can be used to collapse vectors of nodes defined on the same variable scope into a single vector of nodes.\nTake the following PC as an example:\n\n"
      ]
    },
    {
      "cell_type": "code",
      "execution_count": null,
      "metadata": {
        "collapsed": false
      },
      "outputs": [],
      "source": [
        "with juice.set_block_size(block_size = 4):\n\n    i00 = juice.inputs(0, num_node_blocks = 8, dist = dists.Categorical(num_cats = 5))\n    i01 = juice.inputs(0, num_node_blocks = 8, dist = dists.Categorical(num_cats = 5))\n    i10 = juice.inputs(1, num_node_blocks = 8, dist = dists.Categorical(num_cats = 5))\n    i11 = juice.inputs(1, num_node_blocks = 8, dist = dists.Categorical(num_cats = 5))\n    \n    ms00 = juice.multiply(i00, i10)\n    ms01 = juice.multiply(i01, i11)\n\n    ns = juice.summate(ms00, ms01, num_node_blocks = 1, block_size = 1)"
      ]
    },
    {
      "cell_type": "markdown",
      "metadata": {},
      "source": [
        "In the above PC (i.e., :code:`ns`), :code:`i00` and :code:`i01` (also :code:`i10` and :code:`i11`) can be merged into a single object since they define on the same variable and has the same distribution.\n:code:`juice.merge` outputs an equivalent PC with the objects properly merged:\n\n"
      ]
    },
    {
      "cell_type": "code",
      "execution_count": null,
      "metadata": {
        "collapsed": false
      },
      "outputs": [],
      "source": [
        "new_ns1 = juice.merge(ns)"
      ]
    },
    {
      "cell_type": "markdown",
      "metadata": {},
      "source": [
        "Another usage of the merge function is to \"concatenate\" nodes defined by multiple PyJuice objects, if they are defined on the same set of variables.\n\n"
      ]
    },
    {
      "cell_type": "code",
      "execution_count": null,
      "metadata": {
        "collapsed": false
      },
      "outputs": [],
      "source": [
        "ns0 = juice.summate(ms00, num_node_blocks = 8, block_size = 4)\nns1 = juice.summate(ms01, num_node_blocks = 8, block_size = 4)\n\nnew_ns2 = juice.merge(ns0, ns1)"
      ]
    },
    {
      "cell_type": "markdown",
      "metadata": {},
      "source": [
        ":code:`new_ns2` will also be equivalent to :code:`ns`.\n\n"
      ]
    },
    {
      "cell_type": "markdown",
      "metadata": {},
      "source": [
        "## Adjust block sizes\n\n"
      ]
    },
    {
      "cell_type": "markdown",
      "metadata": {},
      "source": [
        "In the second tutorial (i.e., \"Construct Simple PCs\"), we mentioned that defining PCs with large :code:`block_size` is crucial to their efficiency.\nWhile the best practice is to set high block sizes manually whenever possible, we provide :code:`pyjuice.blockify` to try bumping the group size of all vectors of nodes within a PC.\n\n"
      ]
    },
    {
      "cell_type": "code",
      "execution_count": null,
      "metadata": {
        "collapsed": false
      },
      "outputs": [],
      "source": [
        "with juice.set_block_size(block_size = 2):\n\n    ni0 = juice.inputs(0, num_node_blocks = 2, dist = dists.Categorical(num_cats = 2))\n    ni1 = juice.inputs(1, num_node_blocks = 2, dist = dists.Categorical(num_cats = 2))\n    ni2 = juice.inputs(2, num_node_blocks = 2, dist = dists.Categorical(num_cats = 2))\n    ni3 = juice.inputs(3, num_node_blocks = 2, dist = dists.Categorical(num_cats = 2))\n\n    ms1 = juice.multiply(ni0, ni1, edge_ids = torch.tensor([[0, 0], [0, 1], [1, 0], [1, 1]], dtype = torch.long))\n    ns1 = juice.summate(ms1, edge_ids = torch.tensor([[0, 0, 0, 0, 1, 1, 1, 1], [0, 1, 2, 3, 0, 1, 2, 3]], dtype = torch.long))\n\n    ms2 = juice.multiply(ni2, ni3, edge_ids = torch.tensor([[0, 0], [1, 1]], dtype = torch.long))\n    ns2 = juice.summate(ms2, edge_ids = torch.tensor([[0, 0, 1, 1], [0, 1, 0, 1]], dtype = torch.long))\n\n    ms = juice.multiply(ns1, ns2, edge_ids = torch.tensor([[0, 0], [1, 1]], dtype = torch.long))\n    ns = juice.summate(ms, edge_ids = torch.tensor([[0, 0], [0, 1]], dtype = torch.long), block_size = 1)\n\nns.init_parameters()"
      ]
    },
    {
      "cell_type": "markdown",
      "metadata": {},
      "source": [
        "While the block sizes of the above-defined PC is 2 (except for the root node), :code:`ns1` could have block size 4 since every pair of 4 aligned sum nodes in :code:`ns1` and 4 aligned child nodes are fully connected.\nTo apply such change, we can use:\n\n"
      ]
    },
    {
      "cell_type": "code",
      "execution_count": null,
      "metadata": {
        "collapsed": false
      },
      "outputs": [],
      "source": [
        "new_ns = juice.blockify(ns, sparsity_tolerance = 0.25, max_target_block_size = 32)"
      ]
    },
    {
      "cell_type": "markdown",
      "metadata": {},
      "source": [
        "There are two parameters to the function. :code:`max_target_block_size` specifies the maximum block size to be considered; :code:`sparsity_tolerance` specifies what fraction of pseudo-edges do we allow to add in order to increase the block size even if some pairs of parent and child node blocks are neither fully-connected nor unconnected.\n\n"
      ]
    }
  ],
  "metadata": {
    "kernelspec": {
      "display_name": "Python 3",
      "language": "python",
      "name": "python3"
    },
    "language_info": {
      "codemirror_mode": {
        "name": "ipython",
        "version": 3
      },
      "file_extension": ".py",
      "mimetype": "text/x-python",
      "name": "python",
      "nbconvert_exporter": "python",
      "pygments_lexer": "ipython3",
      "version": "3.9.18"
    }
  },
  "nbformat": 4,
  "nbformat_minor": 0
}