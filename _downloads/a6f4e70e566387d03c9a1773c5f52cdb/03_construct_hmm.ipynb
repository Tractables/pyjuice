{
  "cells": [
    {
      "cell_type": "markdown",
      "metadata": {},
      "source": [
        "\n# Construct an HMM\n\nThis tutorial demonstrates how to construct an HMM with :code:`pyjuice.inputs`, :code:`pyjuice.multiply`, and :code:`pyjuice.summate`.\n"
      ]
    },
    {
      "cell_type": "code",
      "execution_count": null,
      "metadata": {
        "collapsed": false
      },
      "outputs": [],
      "source": [
        "# sphinx_gallery_thumbnail_path = 'imgs/juice.png'"
      ]
    },
    {
      "cell_type": "markdown",
      "metadata": {},
      "source": [
        "Let's start by importing the necessary packages.\n\n"
      ]
    },
    {
      "cell_type": "code",
      "execution_count": null,
      "metadata": {
        "collapsed": false
      },
      "outputs": [],
      "source": [
        "import torch\nimport pyjuice as juice\nimport pyjuice.nodes.distributions as dists"
      ]
    },
    {
      "cell_type": "markdown",
      "metadata": {},
      "source": [
        "We start with specifying the structural parameters of the HMM\n\n"
      ]
    },
    {
      "cell_type": "code",
      "execution_count": null,
      "metadata": {
        "collapsed": false
      },
      "outputs": [],
      "source": [
        "seq_length = 32\nnum_latents = 2048\nnum_emits = 4023"
      ]
    },
    {
      "cell_type": "markdown",
      "metadata": {},
      "source": [
        "An important parameter to be determined is the block size, which is crucial for PyJuice to compile efficient models.\nSpecifically, we want the block size to be large enough so that PyJuice can leverage block-based parallelization.\n\n"
      ]
    },
    {
      "cell_type": "code",
      "execution_count": null,
      "metadata": {
        "collapsed": false
      },
      "outputs": [],
      "source": [
        "block_size = min(juice.utils.util.max_cdf_power_of_2(num_latents), 1024)"
      ]
    },
    {
      "cell_type": "markdown",
      "metadata": {},
      "source": [
        "The number of node blocks is derived accordingly\n\n"
      ]
    },
    {
      "cell_type": "code",
      "execution_count": null,
      "metadata": {
        "collapsed": false
      },
      "outputs": [],
      "source": [
        "num_node_blocks = num_latents // block_size"
      ]
    },
    {
      "cell_type": "markdown",
      "metadata": {},
      "source": [
        "We use the context manager `set_block_size` to set the block size of all PC nodes.\nIn the following we assume `T = seq_length` and `K = num_latents`\n\n"
      ]
    },
    {
      "cell_type": "code",
      "execution_count": null,
      "metadata": {
        "collapsed": false
      },
      "outputs": [],
      "source": [
        "with juice.set_block_size(block_size):\n    # We begin by defining p(X_{T-1}|Z_{T-1}) for all k = 0...K-1\n    ns_input = juice.inputs(seq_length - 1, num_node_blocks = num_node_blocks,\n                            dist = dists.Categorical(num_cats = num_emits))\n    \n    ns_sum = None\n    curr_zs = ns_input\n    for var in range(seq_length - 2, -1, -1):\n        # The emission probabilities p(X_{var}|Z_{var}=k) for all k = 0...K-1\n        curr_xs = ns_input.duplicate(var, tie_params = True)\n        \n        # The transition probabilities p(Z_{var+1}|Z_{var})\n        if ns_sum is None:\n            # Create both the structure and the transition probabilities\n            ns = juice.summate(curr_zs, num_node_blocks = num_node_blocks)\n            ns_sum = ns\n        else:\n            # Create only the structure and reuse the transition probabilities from `ns_sum`\n            ns = ns_sum.duplicate(curr_zs, tie_params=True)\n\n        curr_zs = juice.multiply(curr_xs, ns)\n        \n    # The Initial probabilities p(Z_{0})\n    ns = juice.summate(curr_zs, num_node_blocks = 1, block_size = 1)"
      ]
    },
    {
      "cell_type": "markdown",
      "metadata": {},
      "source": [
        "Note that :code:`ns.duplication` is a handy function to create duplications of existing node vectors. \nFor input nodes (e.g., :code:`ns_input.duplicate(var, tie_params = True)`) we can specify it to define on a new variable. \nThe argument :code:`tie_params = True` means we want to use the same set of parameters in the original and the duplicated node vector.\nThe parameters will remain tied after parameter learning, structural transformation, etc.\n\nFor sum node vectors, :code:`ns.duplicate` allows us to specify a new list of children. However, the child nodes must have the same size (same number of node blocks and block size).\n\n"
      ]
    }
  ],
  "metadata": {
    "kernelspec": {
      "display_name": "Python 3",
      "language": "python",
      "name": "python3"
    },
    "language_info": {
      "codemirror_mode": {
        "name": "ipython",
        "version": 3
      },
      "file_extension": ".py",
      "mimetype": "text/x-python",
      "name": "python",
      "nbconvert_exporter": "python",
      "pygments_lexer": "ipython3",
      "version": "3.9.22"
    }
  },
  "nbformat": 4,
  "nbformat_minor": 0
}